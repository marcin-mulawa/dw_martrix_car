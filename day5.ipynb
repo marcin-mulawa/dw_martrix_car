{
 "cells": [
  {
   "cell_type": "code",
   "execution_count": 1,
   "metadata": {},
   "outputs": [],
   "source": [
    "import pandas as pd\n",
    "import numpy as np\n",
    "\n",
    "import xgboost as xgb\n",
    "\n",
    "from sklearn.metrics import mean_absolute_error as mae\n",
    "from sklearn.model_selection import cross_val_score,KFold\n",
    "\n",
    "from hyperopt import hp, fmin, tpe, STATUS_OK\n",
    "\n",
    "import eli5\n",
    "from eli5.sklearn import PermutationImportance"
   ]
  },
  {
   "cell_type": "markdown",
   "metadata": {},
   "source": [
    "### Feature Engineering"
   ]
  },
  {
   "cell_type": "code",
   "execution_count": 2,
   "metadata": {},
   "outputs": [
    {
     "name": "stdout",
     "output_type": "stream",
     "text": [
      "D:\\Repozytoria Github\\dw_martrix_car\\data\n"
     ]
    }
   ],
   "source": [
    "cd data"
   ]
  },
  {
   "cell_type": "code",
   "execution_count": 3,
   "metadata": {},
   "outputs": [
    {
     "data": {
      "text/plain": [
       "(106494, 155)"
      ]
     },
     "execution_count": 3,
     "metadata": {},
     "output_type": "execute_result"
    }
   ],
   "source": [
    "df = pd.read_hdf('car.h5')\n",
    "df.shape"
   ]
  },
  {
   "cell_type": "code",
   "execution_count": 4,
   "metadata": {},
   "outputs": [],
   "source": [
    "SUFFIX_CAT ='__cat'\n",
    "for feat in df.columns:\n",
    "    if isinstance(df[feat][0],list): continue\n",
    "    factorized_values = df[feat].factorize()[0]\n",
    "    if SUFFIX_CAT in feat:\n",
    "        df[feat] = factorized_values\n",
    "    else:\n",
    "        df[feat + SUFFIX_CAT] = factorized_values"
   ]
  },
  {
   "cell_type": "code",
   "execution_count": 5,
   "metadata": {},
   "outputs": [
    {
     "data": {
      "text/plain": [
       "151"
      ]
     },
     "execution_count": 5,
     "metadata": {},
     "output_type": "execute_result"
    }
   ],
   "source": [
    "cat_feats = [x for x in df.columns if SUFFIX_CAT in x]\n",
    "cat_feats = [x for x in cat_feats if 'price' not in x]\n",
    "len(cat_feats)"
   ]
  },
  {
   "cell_type": "code",
   "execution_count": 6,
   "metadata": {},
   "outputs": [],
   "source": [
    "def run_model(model, feats):\n",
    "    \n",
    "    X = df[feats].values\n",
    "    y= df['price_value'].values\n",
    "    scores = cross_val_score(model, X,y, cv=3, scoring='neg_mean_absolute_error')\n",
    "    return np.mean(scores), np.std(scores)"
   ]
  },
  {
   "cell_type": "code",
   "execution_count": 7,
   "metadata": {},
   "outputs": [
    {
     "data": {
      "text/plain": [
       "(-13108.379065811214, 74.32158265003798)"
      ]
     },
     "execution_count": 7,
     "metadata": {},
     "output_type": "execute_result"
    }
   ],
   "source": [
    "xgb_params={\n",
    "    'max_depth': 5,\n",
    "    'n_estimators': 50,\n",
    "    'learning_rate': 0.1,\n",
    "    'seed': 0\n",
    "}\n",
    "model = xgb.XGBRegressor(**xgb_params)\n",
    "run_model(model, cat_feats)"
   ]
  },
  {
   "cell_type": "code",
   "execution_count": 8,
   "metadata": {},
   "outputs": [
    {
     "data": {
      "text/plain": [
       "(-13375.230420852275, 65.40441107118909)"
      ]
     },
     "execution_count": 8,
     "metadata": {},
     "output_type": "execute_result"
    }
   ],
   "source": [
    "feats=['param_napęd__cat',\n",
    "'param_rok-produkcji__cat',\n",
    "'param_stan__cat',\n",
    "'param_skrzynia-biegów__cat',\n",
    "'param_faktura-vat__cat',\n",
    "'param_moc__cat',\n",
    "'param_marka-pojazdu__cat',\n",
    "'feature_kamera-cofania__cat',\n",
    "'param_typ__cat',\n",
    "'param_pojemność-skokowa__cat',\n",
    "'seller_name__cat',\n",
    "'feature_wspomaganie-kierownicy__cat',\n",
    "'param_model-pojazdu__cat',\n",
    "'param_wersja__cat',\n",
    "'param_kod-silnika__cat',\n",
    "'feature_system-start-stop__cat',\n",
    "'feature_asystent-pasa-ruchu__cat',\n",
    "'feature_czujniki-parkowania-przednie__cat',\n",
    "'feature_łopatki-zmiany-biegów__cat',\n",
    "'feature_regulowane-zawieszenie__cat']\n",
    "\n",
    "\n",
    "model = xgb.XGBRegressor(**xgb_params)\n",
    "run_model(model, feats)"
   ]
  },
  {
   "cell_type": "code",
   "execution_count": 9,
   "metadata": {},
   "outputs": [],
   "source": [
    "df['param_rok-produkcji'] = df['param_rok-produkcji'].map(lambda x: -1 if str(x) == 'None' else int(x))"
   ]
  },
  {
   "cell_type": "code",
   "execution_count": 10,
   "metadata": {},
   "outputs": [
    {
     "data": {
      "text/plain": [
       "(-11308.885890938496, 27.868488259630677)"
      ]
     },
     "execution_count": 10,
     "metadata": {},
     "output_type": "execute_result"
    }
   ],
   "source": [
    "feats=['param_napęd__cat',\n",
    "'param_rok-produkcji',\n",
    "'param_stan__cat',\n",
    "'param_skrzynia-biegów__cat',\n",
    "'param_faktura-vat__cat',\n",
    "'param_moc__cat',\n",
    "'param_marka-pojazdu__cat',\n",
    "'feature_kamera-cofania__cat',\n",
    "'param_typ__cat',\n",
    "'param_pojemność-skokowa__cat',\n",
    "'seller_name__cat',\n",
    "'feature_wspomaganie-kierownicy__cat',\n",
    "'param_model-pojazdu__cat',\n",
    "'param_wersja__cat',\n",
    "'param_kod-silnika__cat',\n",
    "'feature_system-start-stop__cat',\n",
    "'feature_asystent-pasa-ruchu__cat',\n",
    "'feature_czujniki-parkowania-przednie__cat',\n",
    "'feature_łopatki-zmiany-biegów__cat',\n",
    "'feature_regulowane-zawieszenie__cat']\n",
    "\n",
    "\n",
    "model = xgb.XGBRegressor(**xgb_params)\n",
    "run_model(model, feats)"
   ]
  },
  {
   "cell_type": "code",
   "execution_count": 11,
   "metadata": {},
   "outputs": [],
   "source": [
    "df['param_moc'] =df['param_moc'].map(lambda x:-1 if str(x) == 'None' else int(x.split(' ')[0]))"
   ]
  },
  {
   "cell_type": "code",
   "execution_count": 12,
   "metadata": {},
   "outputs": [
    {
     "data": {
      "text/plain": [
       "(-9716.450230340148, 62.2164408321879)"
      ]
     },
     "execution_count": 12,
     "metadata": {},
     "output_type": "execute_result"
    }
   ],
   "source": [
    "feats=['param_napęd__cat',\n",
    "'param_rok-produkcji',\n",
    "'param_stan__cat',\n",
    "'param_skrzynia-biegów__cat',\n",
    "'param_faktura-vat__cat',\n",
    "'param_moc',\n",
    "'param_marka-pojazdu__cat',\n",
    "'feature_kamera-cofania__cat',\n",
    "'param_typ__cat',\n",
    "'param_pojemność-skokowa__cat',\n",
    "'seller_name__cat',\n",
    "'feature_wspomaganie-kierownicy__cat',\n",
    "'param_model-pojazdu__cat',\n",
    "'param_wersja__cat',\n",
    "'param_kod-silnika__cat',\n",
    "'feature_system-start-stop__cat',\n",
    "'feature_asystent-pasa-ruchu__cat',\n",
    "'feature_czujniki-parkowania-przednie__cat',\n",
    "'feature_łopatki-zmiany-biegów__cat',\n",
    "'feature_regulowane-zawieszenie__cat']\n",
    "\n",
    "\n",
    "model = xgb.XGBRegressor(**xgb_params)\n",
    "run_model(model, feats)"
   ]
  },
  {
   "cell_type": "code",
   "execution_count": 13,
   "metadata": {},
   "outputs": [
    {
     "data": {
      "text/plain": [
       "(-9569.227198767323, 72.83561801421891)"
      ]
     },
     "execution_count": 13,
     "metadata": {},
     "output_type": "execute_result"
    }
   ],
   "source": [
    "df['param_pojemność-skokowa'] =df['param_pojemność-skokowa'].map(lambda x:-1 if str(x) == 'None' else int(x.split('cm')[0].replace(' ','')))\n",
    "\n",
    "feats=['param_napęd__cat',\n",
    "'param_rok-produkcji',\n",
    "'param_stan__cat',\n",
    "'param_skrzynia-biegów__cat',\n",
    "'param_faktura-vat__cat',\n",
    "'param_moc',\n",
    "'param_marka-pojazdu__cat',\n",
    "'feature_kamera-cofania__cat',\n",
    "'param_typ__cat',\n",
    "'param_pojemność-skokowa',\n",
    "'seller_name__cat',\n",
    "'feature_wspomaganie-kierownicy__cat',\n",
    "'param_model-pojazdu__cat',\n",
    "'param_wersja__cat',\n",
    "'param_kod-silnika__cat',\n",
    "'feature_system-start-stop__cat',\n",
    "'feature_asystent-pasa-ruchu__cat',\n",
    "'feature_czujniki-parkowania-przednie__cat',\n",
    "'feature_łopatki-zmiany-biegów__cat',\n",
    "'feature_regulowane-zawieszenie__cat']\n",
    "\n",
    "\n",
    "model = xgb.XGBRegressor(**xgb_params)\n",
    "run_model(model, feats)"
   ]
  },
  {
   "cell_type": "code",
   "execution_count": 15,
   "metadata": {},
   "outputs": [
    {
     "name": "stdout",
     "output_type": "stream",
     "text": [
      "Training with params:                                                                                                  \n",
      "{'colsample_bytree': 0.55, 'learning_rate': 0.25, 'max_depth': 10, 'n_estimators': 100, 'objective': 'reg:squarederror', 'seed': 0, 'subsample': 0.9500000000000001}\n",
      "Training with params:                                                                                                  \n",
      "{'colsample_bytree': 0.6000000000000001, 'learning_rate': 0.05, 'max_depth': 14, 'n_estimators': 100, 'objective': 'reg:squarederror', 'seed': 0, 'subsample': 0.9500000000000001}\n",
      "Training with params:                                                                                                  \n",
      "{'colsample_bytree': 0.8, 'learning_rate': 0.2, 'max_depth': 12, 'n_estimators': 100, 'objective': 'reg:squarederror', 'seed': 0, 'subsample': 0.9500000000000001}\n",
      "Training with params:                                                                                                  \n",
      "{'colsample_bytree': 0.9500000000000001, 'learning_rate': 0.1, 'max_depth': 10, 'n_estimators': 100, 'objective': 'reg:squarederror', 'seed': 0, 'subsample': 0.6000000000000001}\n",
      "Training with params:                                                                                                  \n",
      "{'colsample_bytree': 0.55, 'learning_rate': 0.05, 'max_depth': 7, 'n_estimators': 100, 'objective': 'reg:squarederror', 'seed': 0, 'subsample': 0.8500000000000001}\n",
      "Training with params:                                                                                                  \n",
      "{'colsample_bytree': 0.75, 'learning_rate': 0.3, 'max_depth': 9, 'n_estimators': 100, 'objective': 'reg:squarederror', 'seed': 0, 'subsample': 0.8}\n",
      "Training with params:                                                                                                  \n",
      "{'colsample_bytree': 0.6000000000000001, 'learning_rate': 0.15000000000000002, 'max_depth': 13, 'n_estimators': 100, 'objective': 'reg:squarederror', 'seed': 0, 'subsample': 0.6000000000000001}\n",
      "Training with params:                                                                                                  \n",
      "{'colsample_bytree': 0.65, 'learning_rate': 0.15000000000000002, 'max_depth': 11, 'n_estimators': 100, 'objective': 'reg:squarederror', 'seed': 0, 'subsample': 0.5}\n",
      "Training with params:                                                                                                  \n",
      "{'colsample_bytree': 0.9500000000000001, 'learning_rate': 0.15000000000000002, 'max_depth': 6, 'n_estimators': 100, 'objective': 'reg:squarederror', 'seed': 0, 'subsample': 0.7000000000000001}\n",
      "Training with params:                                                                                                  \n",
      "{'colsample_bytree': 0.9500000000000001, 'learning_rate': 0.1, 'max_depth': 13, 'n_estimators': 100, 'objective': 'reg:squarederror', 'seed': 0, 'subsample': 0.8}\n",
      "Training with params:                                                                                                  \n",
      "{'colsample_bytree': 0.55, 'learning_rate': 0.15000000000000002, 'max_depth': 9, 'n_estimators': 100, 'objective': 'reg:squarederror', 'seed': 0, 'subsample': 0.65}\n",
      "Training with params:                                                                                                  \n",
      "{'colsample_bytree': 0.6000000000000001, 'learning_rate': 0.25, 'max_depth': 5, 'n_estimators': 100, 'objective': 'reg:squarederror', 'seed': 0, 'subsample': 0.65}\n",
      "Training with params:                                                                                                  \n",
      "{'colsample_bytree': 0.9500000000000001, 'learning_rate': 0.25, 'max_depth': 14, 'n_estimators': 100, 'objective': 'reg:squarederror', 'seed': 0, 'subsample': 0.65}\n",
      "Training with params:                                                                                                  \n",
      "{'colsample_bytree': 0.75, 'learning_rate': 0.15000000000000002, 'max_depth': 6, 'n_estimators': 100, 'objective': 'reg:squarederror', 'seed': 0, 'subsample': 0.75}\n",
      "Training with params:                                                                                                  \n",
      "{'colsample_bytree': 0.75, 'learning_rate': 0.2, 'max_depth': 9, 'n_estimators': 100, 'objective': 'reg:squarederror', 'seed': 0, 'subsample': 0.6000000000000001}\n",
      "Training with params:                                                                                                  \n",
      "{'colsample_bytree': 0.75, 'learning_rate': 0.3, 'max_depth': 7, 'n_estimators': 100, 'objective': 'reg:squarederror', 'seed': 0, 'subsample': 0.8500000000000001}\n",
      "Training with params:                                                                                                  \n",
      "{'colsample_bytree': 0.9500000000000001, 'learning_rate': 0.1, 'max_depth': 14, 'n_estimators': 100, 'objective': 'reg:squarederror', 'seed': 0, 'subsample': 0.6000000000000001}\n",
      "Training with params:                                                                                                  \n",
      "{'colsample_bytree': 0.6000000000000001, 'learning_rate': 0.3, 'max_depth': 15, 'n_estimators': 100, 'objective': 'reg:squarederror', 'seed': 0, 'subsample': 0.75}\n",
      "Training with params:                                                                                                  \n",
      "{'colsample_bytree': 0.55, 'learning_rate': 0.3, 'max_depth': 10, 'n_estimators': 100, 'objective': 'reg:squarederror', 'seed': 0, 'subsample': 0.65}\n",
      "Training with params:                                                                                                  \n",
      "{'colsample_bytree': 0.6000000000000001, 'learning_rate': 0.25, 'max_depth': 14, 'n_estimators': 100, 'objective': 'reg:squarederror', 'seed': 0, 'subsample': 0.8500000000000001}\n",
      "Training with params:                                                                                                  \n",
      "{'colsample_bytree': 0.8500000000000001, 'learning_rate': 0.2, 'max_depth': 12, 'n_estimators': 100, 'objective': 'reg:squarederror', 'seed': 0, 'subsample': 0.9}\n",
      "Training with params:                                                                                                  \n",
      "{'colsample_bytree': 0.8500000000000001, 'learning_rate': 0.1, 'max_depth': 12, 'n_estimators': 100, 'objective': 'reg:squarederror', 'seed': 0, 'subsample': 0.9}\n",
      "Training with params:                                                                                                  \n",
      "{'colsample_bytree': 0.8500000000000001, 'learning_rate': 0.1, 'max_depth': 8, 'n_estimators': 100, 'objective': 'reg:squarederror', 'seed': 0, 'subsample': 0.8}\n",
      "Training with params:                                                                                                  \n",
      "{'colsample_bytree': 0.9, 'learning_rate': 0.1, 'max_depth': 13, 'n_estimators': 100, 'objective': 'reg:squarederror', 'seed': 0, 'subsample': 1.0}\n",
      "Training with params:                                                                                                  \n",
      "{'colsample_bytree': 1.0, 'learning_rate': 0.1, 'max_depth': 13, 'n_estimators': 100, 'objective': 'reg:squarederror', 'seed': 0, 'subsample': 0.9}\n",
      "100%|█████████████████████████████████████████████████| 25/25 [08:14<00:00, 19.78s/trial, best loss: 7422.960922885773]\n"
     ]
    },
    {
     "data": {
      "text/plain": [
       "{'colsample_bytree': 0.8500000000000001,\n",
       " 'learning_rate': 1,\n",
       " 'max_depth': 7,\n",
       " 'subsample': 0.9}"
      ]
     },
     "execution_count": 15,
     "metadata": {},
     "output_type": "execute_result"
    }
   ],
   "source": [
    "def obj_func(params):\n",
    "    print('Training with params: ')\n",
    "    print(params)\n",
    "    \n",
    "    mean_mae, score_std = run_model(xgb.XGBRegressor(**params), feats)\n",
    "    \n",
    "    return {'loss': np.abs(mean_mae), 'status': STATUS_OK}\n",
    "\n",
    "\n",
    "# space\n",
    "xgb_reg_params = {\n",
    "    'learning_rate':    hp.choice('learning_rate',    np.arange(0.05, 0.31, 0.05)),\n",
    "    'max_depth':        hp.choice('max_depth',        np.arange(5, 16,1, dtype=int)),\n",
    "    'subsample':        hp.quniform('subsample', 0.5, 1, 0.05),\n",
    "    'colsample_bytree': hp.quniform('colsample_bytree', 0.5, 1, 0.05),\n",
    "    'objective':        'reg:squarederror',\n",
    "    'n_estimators':     100,\n",
    "    'seed': 0,\n",
    "}\n",
    "\n",
    "\n",
    "#run\n",
    "best= fmin(obj_func, xgb_reg_params, algo=tpe.suggest, max_evals=25)\n",
    "best"
   ]
  },
  {
   "cell_type": "code",
   "execution_count": null,
   "metadata": {},
   "outputs": [],
   "source": []
  }
 ],
 "metadata": {
  "kernelspec": {
   "display_name": "Python 3",
   "language": "python",
   "name": "python3"
  },
  "language_info": {
   "codemirror_mode": {
    "name": "ipython",
    "version": 3
   },
   "file_extension": ".py",
   "mimetype": "text/x-python",
   "name": "python",
   "nbconvert_exporter": "python",
   "pygments_lexer": "ipython3",
   "version": "3.7.4"
  }
 },
 "nbformat": 4,
 "nbformat_minor": 2
}
