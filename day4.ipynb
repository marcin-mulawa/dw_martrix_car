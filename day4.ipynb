{
 "cells": [
  {
   "cell_type": "code",
   "execution_count": 1,
   "metadata": {
    "scrolled": true
   },
   "outputs": [
    {
     "name": "stdout",
     "output_type": "stream",
     "text": [
      "Requirement already up-to-date: tables in c:\\users\\marcin\\anaconda3\\lib\\site-packages (3.6.1)\n",
      "Requirement already satisfied, skipping upgrade: numpy>=1.9.3 in c:\\users\\marcin\\appdata\\roaming\\python\\python37\\site-packages (from tables) (1.18.1)\n",
      "Requirement already satisfied, skipping upgrade: numexpr>=2.6.2 in c:\\users\\marcin\\anaconda3\\lib\\site-packages (from tables) (2.7.0)\n",
      "Requirement already satisfied: eli5 in c:\\users\\marcin\\anaconda3\\lib\\site-packages (0.10.1)\n",
      "Requirement already satisfied: six in c:\\users\\marcin\\appdata\\roaming\\python\\python37\\site-packages (from eli5) (1.14.0)\n",
      "Requirement already satisfied: graphviz in c:\\users\\marcin\\anaconda3\\lib\\site-packages (from eli5) (0.13.2)\n",
      "Requirement already satisfied: scikit-learn>=0.18 in c:\\users\\marcin\\anaconda3\\lib\\site-packages (from eli5) (0.21.3)\n",
      "Requirement already satisfied: jinja2 in c:\\users\\marcin\\anaconda3\\lib\\site-packages (from eli5) (2.10.3)\n",
      "Requirement already satisfied: attrs>16.0.0 in c:\\users\\marcin\\appdata\\roaming\\python\\python37\\site-packages (from eli5) (19.3.0)\n",
      "Requirement already satisfied: numpy>=1.9.0 in c:\\users\\marcin\\appdata\\roaming\\python\\python37\\site-packages (from eli5) (1.18.1)\n",
      "Requirement already satisfied: tabulate>=0.7.7 in c:\\users\\marcin\\anaconda3\\lib\\site-packages (from eli5) (0.8.6)\n",
      "Requirement already satisfied: scipy in c:\\users\\marcin\\anaconda3\\lib\\site-packages (from eli5) (1.4.1)\n",
      "Requirement already satisfied: joblib>=0.11 in c:\\users\\marcin\\anaconda3\\lib\\site-packages (from scikit-learn>=0.18->eli5) (0.13.2)\n",
      "Requirement already satisfied: MarkupSafe>=0.23 in c:\\users\\marcin\\anaconda3\\lib\\site-packages (from jinja2->eli5) (1.1.1)\n",
      "Requirement already satisfied: xgboost in c:\\users\\marcin\\anaconda3\\lib\\site-packages (1.0.2)\n",
      "Requirement already satisfied: numpy in c:\\users\\marcin\\appdata\\roaming\\python\\python37\\site-packages (from xgboost) (1.18.1)\n",
      "Requirement already satisfied: scipy in c:\\users\\marcin\\anaconda3\\lib\\site-packages (from xgboost) (1.4.1)\n"
     ]
    }
   ],
   "source": [
    "!pip install --upgrade tables\n",
    "!pip install eli5\n",
    "!pip install xgboost"
   ]
  },
  {
   "cell_type": "code",
   "execution_count": 2,
   "metadata": {},
   "outputs": [],
   "source": [
    "import pandas as pd\n",
    "import numpy as np\n",
    "\n",
    "from sklearn.dummy import DummyRegressor\n",
    "from sklearn.tree import DecisionTreeRegressor\n",
    "from sklearn.ensemble import RandomForestRegressor\n",
    "\n",
    "import xgboost as xgb\n",
    "\n",
    "from sklearn.metrics import mean_absolute_error as mae\n",
    "from sklearn.model_selection import cross_val_score,KFold\n",
    "\n",
    "import eli5\n",
    "from eli5.sklearn import PermutationImportance"
   ]
  },
  {
   "cell_type": "code",
   "execution_count": 3,
   "metadata": {},
   "outputs": [
    {
     "name": "stdout",
     "output_type": "stream",
     "text": [
      "D:\\Repozytoria Github\\dw_martrix_car\\data\n"
     ]
    }
   ],
   "source": [
    "cd data"
   ]
  },
  {
   "cell_type": "code",
   "execution_count": 4,
   "metadata": {},
   "outputs": [
    {
     "data": {
      "text/plain": [
       "(106494, 155)"
      ]
     },
     "execution_count": 4,
     "metadata": {},
     "output_type": "execute_result"
    }
   ],
   "source": [
    "df = pd.read_hdf('car.h5')\n",
    "df.shape"
   ]
  },
  {
   "cell_type": "code",
   "execution_count": 5,
   "metadata": {},
   "outputs": [],
   "source": [
    "SUFFIX_CAT ='__cat'\n",
    "for feat in df.columns:\n",
    "    if isinstance(df[feat][0],list): continue\n",
    "    factorized_values = df[feat].factorize()[0]\n",
    "    if SUFFIX_CAT in feat:\n",
    "        df[feat] = factorized_values\n",
    "    else:\n",
    "        df[feat + SUFFIX_CAT] = factorized_values"
   ]
  },
  {
   "cell_type": "code",
   "execution_count": 6,
   "metadata": {},
   "outputs": [
    {
     "data": {
      "text/plain": [
       "151"
      ]
     },
     "execution_count": 6,
     "metadata": {},
     "output_type": "execute_result"
    }
   ],
   "source": [
    "cat_feats = [x for x in df.columns if SUFFIX_CAT in x]\n",
    "cat_feats = [x for x in cat_feats if 'price' not in x]\n",
    "len(cat_feats)"
   ]
  },
  {
   "cell_type": "code",
   "execution_count": 7,
   "metadata": {},
   "outputs": [],
   "source": [
    "def run_model(model, feats):\n",
    "    \n",
    "    X = df[feats].values\n",
    "    y= df['price_value'].values\n",
    "    scores = cross_val_score(model, X,y, cv=3, scoring='neg_mean_absolute_error')\n",
    "    return np.mean(scores), np.std(scores)"
   ]
  },
  {
   "cell_type": "code",
   "execution_count": 8,
   "metadata": {},
   "outputs": [
    {
     "data": {
      "text/plain": [
       "(-19695.13091100928, 148.72570644015792)"
      ]
     },
     "execution_count": 8,
     "metadata": {},
     "output_type": "execute_result"
    }
   ],
   "source": [
    "run_model(DecisionTreeRegressor(max_depth=5),cat_feats)"
   ]
  },
  {
   "cell_type": "code",
   "execution_count": 9,
   "metadata": {},
   "outputs": [
    {
     "data": {
      "text/plain": [
       "(-18718.657185256638, 64.5424578125788)"
      ]
     },
     "execution_count": 9,
     "metadata": {},
     "output_type": "execute_result"
    }
   ],
   "source": [
    "run_model(RandomForestRegressor(max_depth=5, n_estimators=50,random_state=0),cat_feats)"
   ]
  },
  {
   "cell_type": "markdown",
   "metadata": {},
   "source": [
    "## XGBoost"
   ]
  },
  {
   "cell_type": "code",
   "execution_count": 10,
   "metadata": {},
   "outputs": [
    {
     "data": {
      "text/plain": [
       "(-13108.379065811214, 74.32158265003798)"
      ]
     },
     "execution_count": 10,
     "metadata": {},
     "output_type": "execute_result"
    }
   ],
   "source": [
    "xgb_params={\n",
    "    'max_depth': 5,\n",
    "    'n_estimators': 50,\n",
    "    'learning_rate': 0.1,\n",
    "    'seed': 0\n",
    "}\n",
    "model = xgb.XGBRegressor(**xgb_params)\n",
    "run_model(model, cat_feats)"
   ]
  },
  {
   "cell_type": "code",
   "execution_count": 16,
   "metadata": {},
   "outputs": [
    {
     "ename": "NameError",
     "evalue": "name 'X' is not defined",
     "output_type": "error",
     "traceback": [
      "\u001b[1;31m---------------------------------------------------------------------------\u001b[0m",
      "\u001b[1;31mNameError\u001b[0m                                 Traceback (most recent call last)",
      "\u001b[1;32m<ipython-input-16-a3e0be47bb11>\u001b[0m in \u001b[0;36m<module>\u001b[1;34m\u001b[0m\n\u001b[0;32m      1\u001b[0m \u001b[0mm\u001b[0m\u001b[1;33m=\u001b[0m\u001b[0mxgb\u001b[0m\u001b[1;33m.\u001b[0m\u001b[0mXGBRegressor\u001b[0m\u001b[1;33m(\u001b[0m\u001b[0mmax_depth\u001b[0m\u001b[1;33m=\u001b[0m\u001b[1;36m5\u001b[0m\u001b[1;33m,\u001b[0m \u001b[0mn_estimators\u001b[0m\u001b[1;33m=\u001b[0m\u001b[1;36m50\u001b[0m\u001b[1;33m,\u001b[0m \u001b[0mlearning_rate\u001b[0m\u001b[1;33m=\u001b[0m\u001b[1;36m0.1\u001b[0m\u001b[1;33m,\u001b[0m \u001b[0mseed\u001b[0m\u001b[1;33m=\u001b[0m\u001b[1;36m0\u001b[0m\u001b[1;33m)\u001b[0m\u001b[1;33m\u001b[0m\u001b[1;33m\u001b[0m\u001b[0m\n\u001b[1;32m----> 2\u001b[1;33m \u001b[0mm\u001b[0m\u001b[1;33m.\u001b[0m\u001b[0mfit\u001b[0m\u001b[1;33m(\u001b[0m\u001b[0mX\u001b[0m\u001b[1;33m,\u001b[0m\u001b[0my\u001b[0m\u001b[1;33m)\u001b[0m\u001b[1;33m\u001b[0m\u001b[1;33m\u001b[0m\u001b[0m\n\u001b[0m\u001b[0;32m      3\u001b[0m \u001b[1;33m\u001b[0m\u001b[0m\n\u001b[0;32m      4\u001b[0m \u001b[0mimp\u001b[0m\u001b[1;33m=\u001b[0m \u001b[0mPermutationImportance\u001b[0m\u001b[1;33m(\u001b[0m\u001b[0mm\u001b[0m\u001b[1;33m,\u001b[0m \u001b[0mrandom_state\u001b[0m\u001b[1;33m=\u001b[0m\u001b[1;36m0\u001b[0m\u001b[1;33m)\u001b[0m\u001b[1;33m.\u001b[0m\u001b[0mfit\u001b[0m\u001b[1;33m(\u001b[0m\u001b[0mX\u001b[0m\u001b[1;33m,\u001b[0m\u001b[0my\u001b[0m\u001b[1;33m)\u001b[0m\u001b[1;33m\u001b[0m\u001b[1;33m\u001b[0m\u001b[0m\n\u001b[0;32m      5\u001b[0m \u001b[0meli5\u001b[0m\u001b[1;33m.\u001b[0m\u001b[0mshow_weights\u001b[0m\u001b[1;33m(\u001b[0m\u001b[0mimp\u001b[0m\u001b[1;33m,\u001b[0m \u001b[0mfeature_names\u001b[0m\u001b[1;33m=\u001b[0m\u001b[0mcat_feats\u001b[0m\u001b[1;33m)\u001b[0m\u001b[1;33m\u001b[0m\u001b[1;33m\u001b[0m\u001b[0m\n",
      "\u001b[1;31mNameError\u001b[0m: name 'X' is not defined"
     ]
    }
   ],
   "source": [
    "m=xgb.XGBRegressor(max_depth=5, n_estimators=50, learning_rate=0.1, seed=0)\n",
    "m.fit(X,y)\n",
    "\n",
    "imp= PermutationImportance(m, random_state=0).fit(X,y)\n",
    "eli5.show_weights(imp, feature_names=cat_feats)"
   ]
  },
  {
   "cell_type": "code",
   "execution_count": 17,
   "metadata": {},
   "outputs": [
    {
     "data": {
      "text/plain": [
       "(-13375.230420852275, 65.40441107118909)"
      ]
     },
     "execution_count": 17,
     "metadata": {},
     "output_type": "execute_result"
    }
   ],
   "source": [
    "feats=['param_napęd__cat',\n",
    "'param_rok-produkcji__cat',\n",
    "'param_stan__cat',\n",
    "'param_skrzynia-biegów__cat',\n",
    "'param_faktura-vat__cat',\n",
    "'param_moc__cat',\n",
    "'param_marka-pojazdu__cat',\n",
    "'feature_kamera-cofania__cat',\n",
    "'param_typ__cat',\n",
    "'param_pojemność-skokowa__cat',\n",
    "'seller_name__cat',\n",
    "'feature_wspomaganie-kierownicy__cat',\n",
    "'param_model-pojazdu__cat',\n",
    "'param_wersja__cat',\n",
    "'param_kod-silnika__cat',\n",
    "'feature_system-start-stop__cat',\n",
    "'feature_asystent-pasa-ruchu__cat',\n",
    "'feature_czujniki-parkowania-przednie__cat',\n",
    "'feature_łopatki-zmiany-biegów__cat',\n",
    "'feature_regulowane-zawieszenie__cat']\n",
    "\n",
    "\n",
    "model = xgb.XGBRegressor(**xgb_params)\n",
    "run_model(model, feats)"
   ]
  },
  {
   "cell_type": "code",
   "execution_count": 18,
   "metadata": {},
   "outputs": [
    {
     "data": {
      "text/plain": [
       "array([None, 'Na przednie koła', '4x4 (dołączany automatycznie)',\n",
       "       'Na tylne koła', '4x4 (dołączany ręcznie)', '4x4 (stały)'],\n",
       "      dtype=object)"
      ]
     },
     "execution_count": 18,
     "metadata": {},
     "output_type": "execute_result"
    }
   ],
   "source": [
    "df['param_napęd'].unique()"
   ]
  },
  {
   "cell_type": "code",
   "execution_count": 19,
   "metadata": {},
   "outputs": [],
   "source": [
    "df['param_rok-produkcji'] = df['param_rok-produkcji'].map(lambda x: -1 if str(x) == 'None' else int(x))"
   ]
  },
  {
   "cell_type": "code",
   "execution_count": 20,
   "metadata": {},
   "outputs": [
    {
     "data": {
      "text/plain": [
       "(-11308.885890938496, 27.868488259630677)"
      ]
     },
     "execution_count": 20,
     "metadata": {},
     "output_type": "execute_result"
    }
   ],
   "source": [
    "feats=['param_napęd__cat',\n",
    "'param_rok-produkcji',\n",
    "'param_stan__cat',\n",
    "'param_skrzynia-biegów__cat',\n",
    "'param_faktura-vat__cat',\n",
    "'param_moc__cat',\n",
    "'param_marka-pojazdu__cat',\n",
    "'feature_kamera-cofania__cat',\n",
    "'param_typ__cat',\n",
    "'param_pojemność-skokowa__cat',\n",
    "'seller_name__cat',\n",
    "'feature_wspomaganie-kierownicy__cat',\n",
    "'param_model-pojazdu__cat',\n",
    "'param_wersja__cat',\n",
    "'param_kod-silnika__cat',\n",
    "'feature_system-start-stop__cat',\n",
    "'feature_asystent-pasa-ruchu__cat',\n",
    "'feature_czujniki-parkowania-przednie__cat',\n",
    "'feature_łopatki-zmiany-biegów__cat',\n",
    "'feature_regulowane-zawieszenie__cat']\n",
    "\n",
    "\n",
    "model = xgb.XGBRegressor(**xgb_params)\n",
    "run_model(model, feats)"
   ]
  },
  {
   "cell_type": "code",
   "execution_count": 21,
   "metadata": {},
   "outputs": [
    {
     "data": {
      "text/plain": [
       "array(['90 KM', '115 KM', '262 KM', '110 KM', '310 KM', '105 KM',\n",
       "       '140 KM', '175 KM', '125 KM', '185 KM', '190 KM', '440 KM',\n",
       "       '141 KM', '200 KM', '224 KM', '75 KM', '99 KM', '184 KM', '109 KM',\n",
       "       '233 KM', '116 KM', '68 KM', '286 KM', '126 KM', '160 KM',\n",
       "       '135 KM', '120 KM', '272 KM', None, '150 KM', '180 KM', '136 KM',\n",
       "       '102 KM', '131 KM', '218 KM', '245 KM', '170 KM', '112 KM',\n",
       "       '250 KM', '252 KM', '73 KM', '100 KM', '313 KM', '101 KM',\n",
       "       '285 KM', '70 KM', '383 KM', '174 KM', '277 KM', '132 KM',\n",
       "       '130 KM', '215 KM', '60 KM', '330 KM', '163 KM', '177 KM', '98 KM',\n",
       "       '78 KM', '189 KM', '156 KM', '143 KM', '69 KM', '113 KM', '65 KM',\n",
       "       '122 KM', '82 KM', '251 KM', '95 KM', '197 KM', '235 KM', '238 KM',\n",
       "       '171 KM', '381 KM', '400 KM', '178 KM', '80 KM', '165 KM', '85 KM',\n",
       "       '258 KM', '142 KM', '204 KM', '124 KM', '55 KM', '144 KM',\n",
       "       '231 KM', '248 KM', '152 KM', '181 KM', '210 KM', '340 KM',\n",
       "       '129 KM', '147 KM', '50 KM', '54 KM', '290 KM', '306 KM', '193 KM',\n",
       "       '77 KM', '164 KM', '96 KM', '194 KM', '111 KM', '166 KM', '206 KM',\n",
       "       '118 KM', '360 KM', '211 KM', '271 KM', '455 KM', '280 KM',\n",
       "       '106 KM', '114 KM', '421 KM', '74 KM', '213 KM', '121 KM',\n",
       "       '275 KM', '435 KM', '384 KM', '326 KM', '88 KM', '220 KM',\n",
       "       '260 KM', '64 KM', '86 KM', '128 KM', '256 KM', '240 KM', '244 KM',\n",
       "       '162 KM', '237 KM', '350 KM', '35 KM', '265 KM', '202 KM',\n",
       "       '133 KM', '83 KM', '117 KM', '146 KM', '92 KM', '192 KM', '145 KM',\n",
       "       '525 KM', '254 KM', '182 KM', '328 KM', '367 KM', '148 KM',\n",
       "       '456 KM', '97 KM', '270 KM', '107 KM', '108 KM', '203 KM',\n",
       "       '155 KM', '94 KM', '93 KM', '241 KM', '20 KM', '71 KM', '173 KM',\n",
       "       '58 KM', '205 KM', '236 KM', '1 400 KM', '557 KM', '84 KM',\n",
       "       '457 KM', '72 KM', '295 KM', '134 KM', '425 KM', '228 KM', '81 KM',\n",
       "       '230 KM', '201 KM', '87 KM', '234 KM', '299 KM', '585 KM',\n",
       "       '209 KM', '370 KM', '6 600 KM', '305 KM', '382 KM', '560 KM',\n",
       "       '158 KM', '176 KM', '320 KM', '225 KM', '62 KM', '255 KM',\n",
       "       '300 KM', '354 KM', '45 KM', '420 KM', '510 KM', '243 KM',\n",
       "       '239 KM', '468 KM', '409 KM', '24 KM', '335 KM', '605 KM',\n",
       "       '410 KM', '416 KM', '183 KM', '303 KM', '59 KM', '4 KM', '283 KM',\n",
       "       '385 KM', '104 KM', '127 KM', '278 KM', '344 KM', '365 KM',\n",
       "       '333 KM', '680 KM', '161 KM', '195 KM', '214 KM', '66 KM',\n",
       "       '170 000 KM', '219 KM', '89 KM', '41 KM', '249 KM', '388 KM',\n",
       "       '103 KM', '217 KM', '570 KM', '625 KM', '364 KM', '450 KM',\n",
       "       '138 KM', '253 KM', '67 KM', '157 KM', '405 KM', '517 KM',\n",
       "       '319 KM', '612 KM', '188 KM', '710 KM', '274 KM', '186 KM',\n",
       "       '139 KM', '11 000 KM', '1 006 KM', '153 KM', '1 430 KM', '323 KM',\n",
       "       '430 KM', '329 KM', '196 KM', '57 KM', '507 KM', '207 KM',\n",
       "       '489 KM', '460 KM', '408 KM', '308 KM', '359 KM', '312 KM',\n",
       "       '179 600 KM', '149 KM', '550 KM', '520 KM', '380 KM', '297 KM',\n",
       "       '347 KM', '259 KM', '212 KM', '343 KM', '309 KM', '53 KM',\n",
       "       '169 KM', '208 KM', '76 KM', '449 KM', '47 KM', '338 KM',\n",
       "       '1 995 KM', '470 KM', '151 KM', '168 KM', '600 KM', '660 KM',\n",
       "       '48 KM', '264 KM', '315 KM', '232 KM', '63 KM', '630 KM', '51 KM',\n",
       "       '1 156 KM', '351 KM', '442 KM', '191 KM', '5 KM', '91 KM', '21 KM',\n",
       "       '407 KM', '284 KM', '346 KM', '717 KM', '276 KM', '431 KM',\n",
       "       '179 KM', '223 KM', '40 KM', '325 KM', '11 KM', '268 KM', '640 KM',\n",
       "       '292 KM', '1 KM', '316 KM', '477 KM', '11 555 KM', '167 KM',\n",
       "       '390 KM', '226 KM', '317 KM', '172 KM', '187 KM', '1 005 KM',\n",
       "       '500 KM', '6 934 KM', '289 KM', '345 KM', '558 KM', '267 KM',\n",
       "       '540 KM', '9 KM', '279 KM', '334 KM', '137 KM', '287 KM', '10 KM',\n",
       "       '401 KM', '199 KM', '544 KM', '298 KM', '394 KM', '780 KM',\n",
       "       '123 KM', '530 KM', '426 KM', '307 KM', '222 KM', '79 KM',\n",
       "       '399 KM', '263 KM', '327 KM', '610 KM', '198 KM', '1 998 KM',\n",
       "       '404 KM', '30 KM', '502 KM', '469 KM', '1 122 KM', '3 KM',\n",
       "       '386 KM', '61 KM', '154 KM', '428 KM', '269 KM', '10 731 KM',\n",
       "       '311 KM', '480 KM', '376 KM', '519 KM', '361 KM', '770 KM',\n",
       "       '453 KM', '1 600 KM', '281 KM', '294 KM', '441 KM', '332 KM',\n",
       "       '247 KM', '227 KM', '800 KM', '288 KM', '337 KM', '324 KM',\n",
       "       '362 KM', '23 KM', '242 KM', '357 KM', '39 KM', '575 KM', '998 KM',\n",
       "       '273 KM', '8 KM', '56 KM', '119 KM', '462 KM', '43 KM', '355 KM',\n",
       "       '52 KM', '387 KM', '566 KM', '12 KM', '439 KM', '352 KM', '422 KM',\n",
       "       '296 KM', '304 KM', '555 KM', '551 KM', '485 KM', '42 KM',\n",
       "       '397 KM', '221 KM', '348 KM', '432 KM', '37 KM', '349 KM',\n",
       "       '302 KM', '356 KM', '2 100 KM', '476 KM', '975 KM', '369 KM',\n",
       "       '486 KM', '246 KM', '3 700 KM', '372 KM', '318 KM', '395 KM',\n",
       "       '514 KM', '14 800 KM', '406 KM', '412 KM', '8 498 KM', '342 KM',\n",
       "       '9 000 KM', '1 254 KM', '445 KM', '13 KM', '2 800 KM', '229 KM',\n",
       "       '282 KM', '495 KM', '378 KM', '490 KM', '368 KM', '472 KM',\n",
       "       '375 KM', '7 500 KM', '363 KM', '650 KM', '159 KM', '1 110 KM',\n",
       "       '44 KM', '434 KM', '571 KM', '543 848 KM', '707 KM', '301 KM',\n",
       "       '2 000 KM', '216 KM', '1 100 KM', '36 KM', '266 KM', '2 300 KM',\n",
       "       '609 KM', '46 KM', '1 116 KM', '1 300 KM', '900 KM', '339 KM',\n",
       "       '475 KM', '573 KM', '565 KM', '396 KM', '8 500 KM', '465 KM',\n",
       "       '685 KM', '437 KM', '257 KM', '5 100 KM', '371 KM', '2 938 KM',\n",
       "       '492 KM', '411 KM', '526 KM', '27 KM', '549 KM', '12 648 KM',\n",
       "       '261 KM', '177 000 KM', '10 000 KM', '293 KM', '1 984 KM',\n",
       "       '740 KM', '2 018 KM', '175 000 KM', '1 900 KM', '1 360 KM',\n",
       "       '581 KM', '1 781 KM', '28 KM', '174 000 KM', '501 KM', '504 KM',\n",
       "       '31 KM', '84 800 KM', '1 991 KM', '466 KM', '576 KM', '9 600 KM',\n",
       "       '415 KM', '7 700 KM', '10 500 KM', '1 198 KM', '799 KM', '18 KM',\n",
       "       '447 KM', '366 KM', '15 KM', '2 465 KM', '580 KM', '1 136 KM',\n",
       "       '670 KM', '136 000 KM', '11 200 KM', '590 KM', '564 KM',\n",
       "       '1 000 KM', '1 500 KM', '38 KM', '291 KM', '2 840 KM', '700 KM',\n",
       "       '2 311 KM', '1 424 KM', '745 KM', '14 KM', '321 KM', '436 KM',\n",
       "       '314 KM', '584 KM', '336 KM', '25 KM', '140 000 KM', '531 KM',\n",
       "       '2 KM', '1 540 KM', '529 KM', '467 KM', '478 KM', '8 568 KM',\n",
       "       '322 KM', '140 105 KM'], dtype=object)"
      ]
     },
     "execution_count": 21,
     "metadata": {},
     "output_type": "execute_result"
    }
   ],
   "source": [
    "df['param_moc'].unique()"
   ]
  },
  {
   "cell_type": "code",
   "execution_count": 22,
   "metadata": {},
   "outputs": [],
   "source": [
    "df['param_moc'] =df['param_moc'].map(lambda x:-1 if str(x) == 'None' else int(x.split(' ')[0]))"
   ]
  },
  {
   "cell_type": "code",
   "execution_count": 23,
   "metadata": {},
   "outputs": [
    {
     "data": {
      "text/plain": [
       "(-9716.450230340148, 62.2164408321879)"
      ]
     },
     "execution_count": 23,
     "metadata": {},
     "output_type": "execute_result"
    }
   ],
   "source": [
    "feats=['param_napęd__cat',\n",
    "'param_rok-produkcji',\n",
    "'param_stan__cat',\n",
    "'param_skrzynia-biegów__cat',\n",
    "'param_faktura-vat__cat',\n",
    "'param_moc',\n",
    "'param_marka-pojazdu__cat',\n",
    "'feature_kamera-cofania__cat',\n",
    "'param_typ__cat',\n",
    "'param_pojemność-skokowa__cat',\n",
    "'seller_name__cat',\n",
    "'feature_wspomaganie-kierownicy__cat',\n",
    "'param_model-pojazdu__cat',\n",
    "'param_wersja__cat',\n",
    "'param_kod-silnika__cat',\n",
    "'feature_system-start-stop__cat',\n",
    "'feature_asystent-pasa-ruchu__cat',\n",
    "'feature_czujniki-parkowania-przednie__cat',\n",
    "'feature_łopatki-zmiany-biegów__cat',\n",
    "'feature_regulowane-zawieszenie__cat']\n",
    "\n",
    "\n",
    "model = xgb.XGBRegressor(**xgb_params)\n",
    "run_model(model, feats)"
   ]
  },
  {
   "cell_type": "code",
   "execution_count": 24,
   "metadata": {},
   "outputs": [
    {
     "data": {
      "text/plain": [
       "(-9569.227198767323, 72.83561801421891)"
      ]
     },
     "execution_count": 24,
     "metadata": {},
     "output_type": "execute_result"
    }
   ],
   "source": [
    "df['param_pojemność-skokowa'] =df['param_pojemność-skokowa'].map(lambda x:-1 if str(x) == 'None' else int(x.split('cm')[0].replace(' ','')))\n",
    "\n",
    "feats=['param_napęd__cat',\n",
    "'param_rok-produkcji',\n",
    "'param_stan__cat',\n",
    "'param_skrzynia-biegów__cat',\n",
    "'param_faktura-vat__cat',\n",
    "'param_moc',\n",
    "'param_marka-pojazdu__cat',\n",
    "'feature_kamera-cofania__cat',\n",
    "'param_typ__cat',\n",
    "'param_pojemność-skokowa',\n",
    "'seller_name__cat',\n",
    "'feature_wspomaganie-kierownicy__cat',\n",
    "'param_model-pojazdu__cat',\n",
    "'param_wersja__cat',\n",
    "'param_kod-silnika__cat',\n",
    "'feature_system-start-stop__cat',\n",
    "'feature_asystent-pasa-ruchu__cat',\n",
    "'feature_czujniki-parkowania-przednie__cat',\n",
    "'feature_łopatki-zmiany-biegów__cat',\n",
    "'feature_regulowane-zawieszenie__cat']\n",
    "\n",
    "\n",
    "model = xgb.XGBRegressor(**xgb_params)\n",
    "run_model(model, feats)"
   ]
  },
  {
   "cell_type": "code",
   "execution_count": null,
   "metadata": {},
   "outputs": [],
   "source": []
  }
 ],
 "metadata": {
  "kernelspec": {
   "display_name": "Python 3",
   "language": "python",
   "name": "python3"
  },
  "language_info": {
   "codemirror_mode": {
    "name": "ipython",
    "version": 3
   },
   "file_extension": ".py",
   "mimetype": "text/x-python",
   "name": "python",
   "nbconvert_exporter": "python",
   "pygments_lexer": "ipython3",
   "version": "3.7.4"
  }
 },
 "nbformat": 4,
 "nbformat_minor": 2
}
